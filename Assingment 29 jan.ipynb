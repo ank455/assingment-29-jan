{
 "cells": [
  {
   "cell_type": "code",
   "execution_count": null,
   "id": "1a07feb6-ff90-4293-b18b-47644256dc0f",
   "metadata": {},
   "outputs": [],
   "source": [
    "Ans (1) Guido van Rossum"
   ]
  },
  {
   "cell_type": "code",
   "execution_count": null,
   "id": "6820eb89-d150-4097-80f5-7ec20285bcb4",
   "metadata": {},
   "outputs": [],
   "source": [
    "Ans (2) Python is a multi-paradigm programming language. Object-oriented programming and structured programming are fully supported, and many of their features support functional programming and aspect-oriented programming (including metaprogramming and metaobjects)."
   ]
  },
  {
   "cell_type": "code",
   "execution_count": null,
   "id": "2fe6f9af-ad9a-42f0-974b-c9b1b70b686b",
   "metadata": {},
   "outputs": [],
   "source": [
    "Ans (3) Yes, python is case sensitive language when dealing with identifiers"
   ]
  },
  {
   "cell_type": "code",
   "execution_count": null,
   "id": "d67c5ffd-22e1-47a5-b18b-c1a3cf57b168",
   "metadata": {},
   "outputs": [],
   "source": [
    "Ans (4) Python is a widely used programming or coding language used for different purposes. The extensions for Python files are - . py, . pyi"
   ]
  },
  {
   "cell_type": "code",
   "execution_count": null,
   "id": "6f635184-b384-4787-919d-430d3d1a8061",
   "metadata": {},
   "outputs": [],
   "source": [
    "Ans (5) Python is an interpreted language"
   ]
  },
  {
   "cell_type": "code",
   "execution_count": null,
   "id": "fe24051b-eeca-47b1-a40d-e498a21634e5",
   "metadata": {},
   "outputs": [],
   "source": [
    "Ans (6)  A module, a function body, and a class definition."
   ]
  },
  {
   "cell_type": "code",
   "execution_count": null,
   "id": "687963b1-815a-41a9-bba7-cafb05dcbfc3",
   "metadata": {},
   "outputs": [],
   "source": [
    "Ans (7) Hash character #"
   ]
  },
  {
   "cell_type": "code",
   "execution_count": null,
   "id": "5e7d89e6-71a0-41c5-bdbc-eaac5524ee47",
   "metadata": {},
   "outputs": [],
   "source": [
    "Ans (8) By using python --version"
   ]
  },
  {
   "cell_type": "code",
   "execution_count": null,
   "id": "3f874691-3feb-466a-b4d9-7de5cbe323d5",
   "metadata": {},
   "outputs": [],
   "source": [
    "Ans (9) Lambda"
   ]
  },
  {
   "cell_type": "code",
   "execution_count": null,
   "id": "9455b0cf-dd79-4262-af6a-e293564ce2ce",
   "metadata": {},
   "outputs": [],
   "source": [
    "Ans (10) Preferred installer program\n"
   ]
  },
  {
   "cell_type": "code",
   "execution_count": null,
   "id": "a64a58c2-8f75-414c-b4d9-4608ca5adb48",
   "metadata": {},
   "outputs": [],
   "source": [
    "Ans(11)  dict()\n",
    "        bool()\n",
    "        list()\n",
    "        input()"
   ]
  },
  {
   "cell_type": "code",
   "execution_count": null,
   "id": "3dd848cf-3f88-4ef0-90c8-84f908edd381",
   "metadata": {},
   "outputs": [],
   "source": [
    "Ans (12) 79 characters"
   ]
  },
  {
   "cell_type": "code",
   "execution_count": null,
   "id": "aac36ed1-cc7b-4b71-babf-ac32c6be6e85",
   "metadata": {},
   "outputs": [],
   "source": [
    "Ans (13)  (a)Easy to learn\n",
    "          (b)Interpreted Language\n",
    "          (c) Extensive Library    \n"
   ]
  },
  {
   "cell_type": "code",
   "execution_count": null,
   "id": "eeb9023c-6c66-41be-a188-1adeab122595",
   "metadata": {},
   "outputs": [],
   "source": [
    "Ans(14) Memory management in Python involves a private heap containing all Python objects and data structures. The management of this private heap is ensured internally by the Python memory manager."
   ]
  },
  {
   "cell_type": "code",
   "execution_count": null,
   "id": "ac6fe367-8fcb-4d06-94f5-400170c4530b",
   "metadata": {},
   "outputs": [],
   "source": [
    "Ans(15)  (a) Right-clicking This PC and going to Properties.\n",
    "         (b)Clicking on the Advanced system settings in the menu on the left.\n",
    "         (c) \n"
   ]
  }
 ],
 "metadata": {
  "kernelspec": {
   "display_name": "Python 3 (ipykernel)",
   "language": "python",
   "name": "python3"
  },
  "language_info": {
   "codemirror_mode": {
    "name": "ipython",
    "version": 3
   },
   "file_extension": ".py",
   "mimetype": "text/x-python",
   "name": "python",
   "nbconvert_exporter": "python",
   "pygments_lexer": "ipython3",
   "version": "3.10.8"
  }
 },
 "nbformat": 4,
 "nbformat_minor": 5
}
